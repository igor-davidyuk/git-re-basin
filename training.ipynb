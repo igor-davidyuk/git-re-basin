{
 "cells": [
  {
   "cell_type": "code",
   "execution_count": 1,
   "id": "744fec16",
   "metadata": {},
   "outputs": [
    {
     "name": "stderr",
     "output_type": "stream",
     "text": [
      "/home/itrushkin/.virtualenvs/git-re-basin/lib/python3.10/site-packages/tqdm/auto.py:22: TqdmWarning: IProgress not found. Please update jupyter and ipywidgets. See https://ipywidgets.readthedocs.io/en/stable/user_install.html\n",
      "  from .autonotebook import tqdm as notebook_tqdm\n"
     ]
    }
   ],
   "source": [
    "from torchvision.datasets import CIFAR10\n",
    "import numpy as np\n",
    "from torchvision import transforms\n",
    "from torch.utils.data import DataLoader, Subset\n",
    "import torch\n",
    "import torch.nn as nn"
   ]
  },
  {
   "cell_type": "code",
   "execution_count": 2,
   "id": "6f174f31",
   "metadata": {},
   "outputs": [],
   "source": [
    "SPLIT=True\n",
    "MODEL_ID=1\n",
    "BATCH_SIZE=2**9\n",
    "NUM_EPOCHS=100"
   ]
  },
  {
   "cell_type": "code",
   "execution_count": 3,
   "id": "309afafe",
   "metadata": {},
   "outputs": [],
   "source": [
    "torch.manual_seed(MODEL_ID)\n",
    "np.random.seed(MODEL_ID)\n",
    "torch.use_deterministic_algorithms(False)"
   ]
  },
  {
   "cell_type": "code",
   "execution_count": 4,
   "id": "d9f863f2",
   "metadata": {},
   "outputs": [],
   "source": [
    "device = torch.device('cuda' if torch.cuda.is_available() else 'cpu')"
   ]
  },
  {
   "cell_type": "code",
   "execution_count": 5,
   "id": "b76fd061",
   "metadata": {},
   "outputs": [
    {
     "name": "stdout",
     "output_type": "stream",
     "text": [
      "Files already downloaded and verified\n"
     ]
    }
   ],
   "source": [
    "train_transform = transforms.Compose([\n",
    "    transforms.RandomAffine(0, scale=[0.8, 1.2]),\n",
    "    transforms.RandomCrop(32),\n",
    "    transforms.RandomHorizontalFlip(),\n",
    "    transforms.RandomAffine(30),\n",
    "    transforms.ToTensor()\n",
    "])\n",
    "\n",
    "valid_transform = transforms.Compose([\n",
    "    transforms.ToTensor()\n",
    "])\n",
    "\n",
    "train_dataset = CIFAR10('.', train=True, transform=train_transform, download=True)\n",
    "valid_dataset = CIFAR10('.', train=False, transform=valid_transform)\n",
    "def get_non_iid_indices(labels):\n",
    "    condition = labels < 5 if MODEL_ID == 1 else labels >= 5\n",
    "    return condition.nonzero()[0]\n",
    "def get_iid_indices(labels):\n",
    "    indices = np.random.permutation(len(labels))\n",
    "    indices = np.array_split(indices, 2)[MODEL_ID]\n",
    "    return indices\n",
    "\n",
    "if SPLIT:\n",
    "    labels = np.array(train_dataset.targets)\n",
    "    indices = get_iid_indices(labels)\n",
    "    train_dataset = Subset(train_dataset, indices)\n",
    "\n",
    "\n",
    "train_loader = DataLoader(train_dataset, batch_size=BATCH_SIZE, shuffle=True)\n",
    "valid_loader = DataLoader(valid_dataset, batch_size=BATCH_SIZE)"
   ]
  },
  {
   "cell_type": "code",
   "execution_count": null,
   "id": "b454b56e",
   "metadata": {},
   "outputs": [],
   "source": [
    "class Conv2dLayerNorm(nn.LayerNorm):        \n",
    "    def forward(self, x):\n",
    "        transposed = x.transpose(1,3)\n",
    "        result = super().forward(transposed)\n",
    "        \n",
    "        return result.transpose(3,1)"
   ]
  },
  {
   "cell_type": "code",
   "execution_count": null,
   "id": "26ee4ebe",
   "metadata": {},
   "outputs": [],
   "source": [
    "def gn(channels):\n",
    "    return nn.GroupNorm(32, channels)"
   ]
  },
  {
   "cell_type": "code",
   "execution_count": 1,
   "id": "8295d619",
   "metadata": {},
   "outputs": [
    {
     "ename": "NameError",
     "evalue": "name 'nn' is not defined",
     "output_type": "error",
     "traceback": [
      "\u001b[0;31m---------------------------------------------------------------------------\u001b[0m",
      "\u001b[0;31mNameError\u001b[0m                                 Traceback (most recent call last)",
      "Cell \u001b[0;32mIn[1], line 1\u001b[0m\n\u001b[0;32m----> 1\u001b[0m \u001b[38;5;28;01mclass\u001b[39;00m \u001b[38;5;21;01mAffineInstanceNorm2d\u001b[39;00m(\u001b[43mnn\u001b[49m\u001b[38;5;241m.\u001b[39mInstanceNorm2d):\n\u001b[1;32m      2\u001b[0m     \u001b[38;5;28;01mdef\u001b[39;00m \u001b[38;5;21m__init__\u001b[39m(\u001b[38;5;28mself\u001b[39m, \u001b[38;5;241m*\u001b[39margs, \u001b[38;5;241m*\u001b[39m\u001b[38;5;241m*\u001b[39mkwargs):\n\u001b[1;32m      3\u001b[0m         \u001b[38;5;28msuper\u001b[39m()\u001b[38;5;241m.\u001b[39m\u001b[38;5;21m__init__\u001b[39m(\u001b[38;5;241m*\u001b[39m\u001b[38;5;241m*\u001b[39mkwargs, affine\u001b[38;5;241m=\u001b[39m\u001b[38;5;28;01mTrue\u001b[39;00m)\n",
      "\u001b[0;31mNameError\u001b[0m: name 'nn' is not defined"
     ]
    }
   ],
   "source": [
    "class AffineInstanceNorm2d(nn.InstanceNorm2d):\n",
    "    def __init__(self, *args, **kwargs):\n",
    "        super().__init__(**kwargs, affine=True)"
   ]
  },
  {
   "cell_type": "code",
   "execution_count": 6,
   "id": "66f4cefd",
   "metadata": {},
   "outputs": [],
   "source": [
    "class Net(nn.Module):\n",
    "    super().__init__()\n",
    "    self.conv1 = nn.Conv2d(3, 64)\n",
    "    self.conv2 = nn.Conv2d(64, 64)\n",
    "    self.conv3 = nn.Conv2d(64, 128)\n",
    "    self.conv4 = nn.Conv2d(128, 128)\n",
    "    self.conv5 = nn.Conv2d(128, 256)\n",
    "    self.conv6 = nn.Conv2d(256, 256)\n",
    "    self.conv7 = nn.Conv2d(256, 512)\n",
    "    self.conv8 = nn.Conv2d(512, 512)\n",
    "    \n",
    "    \n",
    "    \n",
    "model = resnet18(num_classes=10,norm_layer=gn).to(device)    "
   ]
  },
  {
   "cell_type": "code",
   "execution_count": 7,
   "id": "b4ad8b85",
   "metadata": {},
   "outputs": [],
   "source": [
    "from torch.optim import SGD\n",
    "from torch.optim.lr_scheduler import CosineAnnealingLR\n",
    "\n",
    "optimizer = SGD(model.parameters(), momentum=0.9, lr=5e-3)\n",
    "scheduler = CosineAnnealingLR(optimizer, T_max=NUM_EPOCHS, eta_min=1e-6)"
   ]
  },
  {
   "cell_type": "code",
   "execution_count": 8,
   "id": "f6c4955c",
   "metadata": {},
   "outputs": [],
   "source": [
    "from torch import nn\n",
    "loss_fn = nn.CrossEntropyLoss()"
   ]
  },
  {
   "cell_type": "code",
   "execution_count": null,
   "id": "b1452521",
   "metadata": {},
   "outputs": [
    {
     "name": "stdout",
     "output_type": "stream",
     "text": [
      "Epoch 1:\tTrain loss: 1.942138\tTest loss: 1.787994\tTest accuracy: 0.324700\n",
      "Epoch 2:\tTrain loss: 1.629336\tTest loss: 1.605208\tTest accuracy: 0.406700\n",
      "Epoch 3:\tTrain loss: 1.602989\tTest loss: 1.533300\tTest accuracy: 0.438900\n",
      "Epoch 4:\tTrain loss: 1.507441\tTest loss: 1.464249\tTest accuracy: 0.462100\n",
      "Epoch 5:\tTrain loss: 1.538440\tTest loss: 1.445706\tTest accuracy: 0.470500\n",
      "Epoch 6:\tTrain loss: 1.467821\tTest loss: 1.364759\tTest accuracy: 0.504800\n",
      "Epoch 7:\tTrain loss: 1.429962\tTest loss: 1.328985\tTest accuracy: 0.505300\n",
      "Epoch 8:\tTrain loss: 1.469605\tTest loss: 1.286566\tTest accuracy: 0.529000\n",
      "Epoch 9:\tTrain loss: 1.373327\tTest loss: 1.275438\tTest accuracy: 0.547200\n",
      "Epoch 10:\tTrain loss: 1.325434\tTest loss: 1.297026\tTest accuracy: 0.544100\n",
      "Epoch 11:\tTrain loss: 1.337210\tTest loss: 1.263030\tTest accuracy: 0.543000\n",
      "Epoch 12:\tTrain loss: 1.266734\tTest loss: 1.284214\tTest accuracy: 0.534300\n",
      "Epoch 13:\tTrain loss: 1.350701\tTest loss: 1.264096\tTest accuracy: 0.550200\n",
      "Epoch 14:\tTrain loss: 1.286793\tTest loss: 1.209480\tTest accuracy: 0.567200\n",
      "Epoch 15:\tTrain loss: 1.267679\tTest loss: 1.177057\tTest accuracy: 0.569400\n",
      "Epoch 16:\tTrain loss: 1.243502\tTest loss: 1.176481\tTest accuracy: 0.586500\n",
      "Epoch 17:\tTrain loss: 1.260301\tTest loss: 1.223771\tTest accuracy: 0.570000\n",
      "Epoch 18:\tTrain loss: 1.234686\tTest loss: 1.180031\tTest accuracy: 0.583800\n",
      "Epoch 19:\tTrain loss: 1.042070\tTest loss: 1.135754\tTest accuracy: 0.596200\n",
      "Epoch 20:\tTrain loss: 1.169107\tTest loss: 1.124220\tTest accuracy: 0.603400\n",
      "Epoch 21:\tTrain loss: 1.080048\tTest loss: 1.154560\tTest accuracy: 0.593000\n"
     ]
    }
   ],
   "source": [
    "import torch\n",
    "import torch.nn.functional as F\n",
    "def train():\n",
    "    model.train()\n",
    "    for data, target in train_loader:\n",
    "        optimizer.zero_grad()\n",
    "        data, target = data.to(device), target.to(device)\n",
    "        outputs = model(data)\n",
    "        loss = loss_fn(outputs, target)\n",
    "        loss.backward()\n",
    "        optimizer.step()\n",
    "    scheduler.step()\n",
    "    return loss.item()\n",
    "\n",
    "def validate():\n",
    "    model.eval()\n",
    "    total_samples = 0\n",
    "    val_score = 0\n",
    "    for data, target in valid_loader:\n",
    "        optimizer.zero_grad()\n",
    "        data, target = data.to(device), target.to(device)\n",
    "        outputs = model(data)\n",
    "        loss = loss_fn(outputs, target)\n",
    "        pred = outputs.argmax(dim=1)\n",
    "        val_score += pred.eq(target).sum().cpu().numpy()\n",
    "        total_samples += len(target)\n",
    "    return loss.item(), val_score / total_samples\n",
    "\n",
    "for epoch in range(NUM_EPOCHS):\n",
    "    train_loss = train()\n",
    "    val_loss, acc = validate()\n",
    "    print(f'Epoch {epoch+1}:\\tTrain loss: {train_loss:.4f}\\tTest loss: {val_loss:.4f}\\tTest accuracy: {acc:.4f}')"
   ]
  },
  {
   "cell_type": "code",
   "execution_count": null,
   "id": "abb723cc",
   "metadata": {},
   "outputs": [],
   "source": [
    "import pickle\n",
    "with open(f'model_{MODEL_ID}.pkl','wb') as f:\n",
    "    pickle.dump({n: p.numpy(force=True) for n,p in model.state_dict().items()}, f) "
   ]
  },
  {
   "cell_type": "code",
   "execution_count": null,
   "id": "fbc5e65d",
   "metadata": {},
   "outputs": [],
   "source": [
    "for n,p in model.state_dict().items():\n",
    "    print(f'{n}: {p.size()}')"
   ]
  },
  {
   "cell_type": "code",
   "execution_count": null,
   "id": "afabda19",
   "metadata": {},
   "outputs": [],
   "source": [
    "torch.tensor([64.3]).numpy(force=True)"
   ]
  },
  {
   "cell_type": "code",
   "execution_count": null,
   "id": "3e1da41c",
   "metadata": {},
   "outputs": [],
   "source": []
  }
 ],
 "metadata": {
  "kernelspec": {
   "display_name": "Python 3 (ipykernel)",
   "language": "python",
   "name": "python3"
  },
  "language_info": {
   "codemirror_mode": {
    "name": "ipython",
    "version": 3
   },
   "file_extension": ".py",
   "mimetype": "text/x-python",
   "name": "python",
   "nbconvert_exporter": "python",
   "pygments_lexer": "ipython3",
   "version": "3.10.6"
  }
 },
 "nbformat": 4,
 "nbformat_minor": 5
}
