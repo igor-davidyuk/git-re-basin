{
 "cells": [
  {
   "cell_type": "code",
   "execution_count": null,
   "id": "744fec16",
   "metadata": {},
   "outputs": [],
   "source": [
    "from torchvision.datasets import CIFAR10\n",
    "import numpy as np\n",
    "from torchvision.transforms import ToTensor\n",
    "from torch.utils.data import DataLoader, Subset\n",
    "import numpy as np"
   ]
  },
  {
   "cell_type": "code",
   "execution_count": null,
   "id": "6f174f31",
   "metadata": {},
   "outputs": [],
   "source": [
    "SPLIT=True\n",
    "MODEL_ID=2\n",
    "BATCH_SIZE=2**9"
   ]
  },
  {
   "cell_type": "code",
   "execution_count": null,
   "id": "b76fd061",
   "metadata": {},
   "outputs": [],
   "source": [
    "train_dataset = CIFAR10('.', train=True, transform=ToTensor(), download=True)\n",
    "valid_dataset = CIFAR10('.', train=False, transform=ToTensor())\n",
    "\n",
    "if SPLIT:\n",
    "    labels = np.array(train_dataset.targets)\n",
    "    condition = labels < 5 if MODEL_ID == 1 else labels >= 5\n",
    "    train_dataset = Subset(train_dataset, condition.nonzero()[0])\n",
    "\n",
    "\n",
    "train_loader = DataLoader(train_dataset, batch_size=512, shuffle=True)\n",
    "valid_loader = DataLoader(valid_dataset, batch_size=512)"
   ]
  },
  {
   "cell_type": "code",
   "execution_count": null,
   "id": "66f4cefd",
   "metadata": {},
   "outputs": [],
   "source": [
    "from torchvision.models import resnet18\n",
    "model = resnet18(num_classes=10)"
   ]
  },
  {
   "cell_type": "code",
   "execution_count": null,
   "id": "b4ad8b85",
   "metadata": {},
   "outputs": [],
   "source": [
    "from torch.optim import SGD\n",
    "optimizer = SGD(model.parameters(), lr=1e-3)"
   ]
  },
  {
   "cell_type": "code",
   "execution_count": null,
   "id": "f6c4955c",
   "metadata": {},
   "outputs": [],
   "source": [
    "from torch import nn\n",
    "loss_fn = nn.CrossEntropyLoss()"
   ]
  },
  {
   "cell_type": "code",
   "execution_count": null,
   "id": "b1452521",
   "metadata": {},
   "outputs": [],
   "source": [
    "import torch\n",
    "def train():\n",
    "    model.train()\n",
    "    for data, target in train_loader:\n",
    "        optimizer.zero_grad()\n",
    "        outputs = model(data)\n",
    "        loss = loss_fn(outputs, target)\n",
    "        loss.backward()\n",
    "        optimizer.step()\n",
    "    return loss.item()\n",
    "\n",
    "def validate():\n",
    "    model.eval()\n",
    "    total_samples = 0\n",
    "    val_score = 0\n",
    "    for data, target in train_loader:\n",
    "        optimizer.zero_grad()\n",
    "        outputs = model(data)\n",
    "        pred = outputs.argmax(dim=1)\n",
    "        val_score += pred.eq(target).sum().cpu().numpy()\n",
    "        total_samples += len(target)\n",
    "    return val_score / total_samples\n",
    "\n",
    "for epoch in range(20):\n",
    "    loss = train()\n",
    "    acc = validate()\n",
    "    print(f'Epoch {epoch+1}:\\tTrain loss:{loss:4f}\\tTest accuracy:{acc:4f}')"
   ]
  },
  {
   "cell_type": "code",
   "execution_count": null,
   "id": "abb723cc",
   "metadata": {},
   "outputs": [],
   "source": [
    "import pickle\n",
    "with open(f'model_{MODEL_ID}.pkl','wb') as f:\n",
    "    pickle.dump({n: p.detach().numpy() for n,p in model.named_parameters()}, f)    "
   ]
  },
  {
   "cell_type": "code",
   "execution_count": null,
   "id": "1a7da81c",
   "metadata": {},
   "outputs": [],
   "source": []
  }
 ],
 "metadata": {
  "language_info": {
   "name": "python"
  }
 },
 "nbformat": 4,
 "nbformat_minor": 5
}
