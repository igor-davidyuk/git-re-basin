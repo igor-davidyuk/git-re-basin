{
 "cells": [
  {
   "cell_type": "code",
   "execution_count": 1,
   "id": "744fec16",
   "metadata": {},
   "outputs": [
    {
     "name": "stderr",
     "output_type": "stream",
     "text": [
      "/home/itrushkin/.virtualenvs/git-re-basin/lib/python3.10/site-packages/tqdm/auto.py:22: TqdmWarning: IProgress not found. Please update jupyter and ipywidgets. See https://ipywidgets.readthedocs.io/en/stable/user_install.html\n",
      "  from .autonotebook import tqdm as notebook_tqdm\n"
     ]
    }
   ],
   "source": [
    "from torchvision.datasets import CIFAR10\n",
    "import numpy as np\n",
    "from torchvision.transforms import ToTensor\n",
    "from torch.utils.data import DataLoader, Subset\n",
    "import torch\n",
    "import torch.nn as nn"
   ]
  },
  {
   "cell_type": "code",
   "execution_count": 2,
   "id": "6f174f31",
   "metadata": {},
   "outputs": [],
   "source": [
    "SPLIT=False\n",
    "MODEL_ID=2\n",
    "BATCH_SIZE=2**10\n",
    "SEED=1"
   ]
  },
  {
   "cell_type": "code",
   "execution_count": 3,
   "id": "309afafe",
   "metadata": {},
   "outputs": [],
   "source": [
    "torch.manual_seed(SEED)\n",
    "np.random.seed(SEED)\n",
    "torch.use_deterministic_algorithms(False)"
   ]
  },
  {
   "cell_type": "code",
   "execution_count": 4,
   "id": "d9f863f2",
   "metadata": {},
   "outputs": [],
   "source": [
    "device = torch.device('cuda' if torch.cuda.is_available() else 'cpu')"
   ]
  },
  {
   "cell_type": "code",
   "execution_count": 5,
   "id": "b76fd061",
   "metadata": {},
   "outputs": [
    {
     "name": "stdout",
     "output_type": "stream",
     "text": [
      "Files already downloaded and verified\n"
     ]
    }
   ],
   "source": [
    "train_dataset = CIFAR10('.', train=True, transform=ToTensor(), download=True)\n",
    "valid_dataset = CIFAR10('.', train=False, transform=ToTensor())\n",
    "\n",
    "if SPLIT:\n",
    "    labels = np.array(train_dataset.targets)\n",
    "    condition = labels < 5 if MODEL_ID == 1 else labels >= 5\n",
    "    train_dataset = Subset(train_dataset, condition.nonzero()[0])\n",
    "\n",
    "\n",
    "train_loader = DataLoader(train_dataset, batch_size=BATCH_SIZE, shuffle=True)\n",
    "valid_loader = DataLoader(valid_dataset, batch_size=BATCH_SIZE)"
   ]
  },
  {
   "cell_type": "code",
   "execution_count": 6,
   "id": "66f4cefd",
   "metadata": {},
   "outputs": [],
   "source": [
    "from torchvision.models import resnet18\n",
    "\n",
    "class Conv2dLayerNorm(nn.LayerNorm):        \n",
    "    def forward(self, x):\n",
    "        transposed = x.transpose(1,3)\n",
    "        result = super().forward(transposed)\n",
    "        \n",
    "        return result.transpose(3,1)\n",
    "\n",
    "model = resnet18(num_classes=10, norm_layer=Conv2dLayerNorm).to(device)            "
   ]
  },
  {
   "cell_type": "code",
   "execution_count": 7,
   "id": "b4ad8b85",
   "metadata": {},
   "outputs": [],
   "source": [
    "from torch.optim import SGD\n",
    "optimizer = SGD(model.parameters(), lr=1e-3)"
   ]
  },
  {
   "cell_type": "code",
   "execution_count": 8,
   "id": "f6c4955c",
   "metadata": {},
   "outputs": [],
   "source": [
    "from torch import nn\n",
    "loss_fn = nn.CrossEntropyLoss()"
   ]
  },
  {
   "cell_type": "code",
   "execution_count": 9,
   "id": "b1452521",
   "metadata": {},
   "outputs": [
    {
     "name": "stdout",
     "output_type": "stream",
     "text": [
      "Epoch 1:\tTrain loss:2.189628\tTest accuracy:0.241500\n",
      "Epoch 2:\tTrain loss:2.057933\tTest accuracy:0.273200\n",
      "Epoch 3:\tTrain loss:2.004574\tTest accuracy:0.295100\n",
      "Epoch 4:\tTrain loss:1.841234\tTest accuracy:0.341200\n",
      "Epoch 5:\tTrain loss:1.825524\tTest accuracy:0.359700\n",
      "Epoch 6:\tTrain loss:1.842961\tTest accuracy:0.343200\n",
      "Epoch 7:\tTrain loss:1.855386\tTest accuracy:0.352000\n",
      "Epoch 8:\tTrain loss:1.798304\tTest accuracy:0.356200\n",
      "Epoch 9:\tTrain loss:1.744208\tTest accuracy:0.372300\n",
      "Epoch 10:\tTrain loss:1.741127\tTest accuracy:0.386500\n",
      "Epoch 11:\tTrain loss:1.637662\tTest accuracy:0.407900\n",
      "Epoch 12:\tTrain loss:1.650924\tTest accuracy:0.408700\n",
      "Epoch 13:\tTrain loss:1.670300\tTest accuracy:0.417500\n",
      "Epoch 14:\tTrain loss:1.588423\tTest accuracy:0.424600\n",
      "Epoch 15:\tTrain loss:1.631279\tTest accuracy:0.414400\n",
      "Epoch 16:\tTrain loss:1.539430\tTest accuracy:0.433900\n",
      "Epoch 17:\tTrain loss:1.470001\tTest accuracy:0.452900\n",
      "Epoch 18:\tTrain loss:1.606215\tTest accuracy:0.408000\n",
      "Epoch 19:\tTrain loss:1.529489\tTest accuracy:0.463200\n",
      "Epoch 20:\tTrain loss:1.541588\tTest accuracy:0.435100\n"
     ]
    }
   ],
   "source": [
    "import torch\n",
    "import torch.nn.functional as F\n",
    "def train():\n",
    "    model.train()\n",
    "    for data, target in train_loader:\n",
    "        optimizer.zero_grad()\n",
    "        data, target = data.to(device), target.to(device)\n",
    "        outputs = model(data)\n",
    "        loss = loss_fn(outputs, target)\n",
    "        loss.backward()\n",
    "        optimizer.step()\n",
    "    return loss.item()\n",
    "\n",
    "def validate():\n",
    "    model.eval()\n",
    "    total_samples = 0\n",
    "    val_score = 0\n",
    "    for data, target in valid_loader:\n",
    "        optimizer.zero_grad()\n",
    "        data, target = data.to(device), target.to(device)\n",
    "        outputs = model(data)\n",
    "        pred = outputs.argmax(dim=1)\n",
    "        val_score += pred.eq(target).sum().cpu().numpy()\n",
    "        total_samples += len(target)\n",
    "    return val_score / total_samples\n",
    "\n",
    "for epoch in range(20):\n",
    "    loss = train()\n",
    "    acc = validate()\n",
    "    print(f'Epoch {epoch+1}:\\tTrain loss:{loss:4f}\\tTest accuracy:{acc:4f}')"
   ]
  },
  {
   "cell_type": "code",
   "execution_count": 10,
   "id": "abb723cc",
   "metadata": {},
   "outputs": [],
   "source": [
    "import pickle\n",
    "with open(f'model_{MODEL_ID}.pkl','wb') as f:\n",
    "    pickle.dump({n: p.numpy(force=True) for n,p in model.named_parameters()}, f)    "
   ]
  },
  {
   "cell_type": "code",
   "execution_count": null,
   "id": "1c85d468",
   "metadata": {},
   "outputs": [],
   "source": []
  }
 ],
 "metadata": {
  "kernelspec": {
   "display_name": "Python 3 (ipykernel)",
   "language": "python",
   "name": "python3"
  },
  "language_info": {
   "codemirror_mode": {
    "name": "ipython",
    "version": 3
   },
   "file_extension": ".py",
   "mimetype": "text/x-python",
   "name": "python",
   "nbconvert_exporter": "python",
   "pygments_lexer": "ipython3",
   "version": "3.10.6"
  }
 },
 "nbformat": 4,
 "nbformat_minor": 5
}
