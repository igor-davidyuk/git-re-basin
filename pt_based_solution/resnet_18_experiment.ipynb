{
 "cells": [
  {
   "cell_type": "code",
   "execution_count": null,
   "id": "97be50c3",
   "metadata": {},
   "outputs": [],
   "source": [
    "%load_ext autoreload\n",
    "%autoreload 2\n",
    "from resnet18_cifar10 import RN18CIFAR"
   ]
  },
  {
   "cell_type": "code",
   "execution_count": null,
   "id": "920d5927",
   "metadata": {},
   "outputs": [],
   "source": [
    "model_a = RN18CIFAR(model_id=0)\n",
    "model_b = RN18CIFAR(model_id=1)\n",
    "epoches = 7"
   ]
  },
  {
   "cell_type": "code",
   "execution_count": null,
   "id": "5f6bf6bc",
   "metadata": {},
   "outputs": [],
   "source": [
    "model_a.train(epoches=epoches)"
   ]
  },
  {
   "cell_type": "code",
   "execution_count": null,
   "id": "75a8ce34",
   "metadata": {
    "scrolled": true
   },
   "outputs": [],
   "source": [
    "model_b.train(epoches=epoches)"
   ]
  },
  {
   "cell_type": "code",
   "execution_count": null,
   "id": "247d8bb0",
   "metadata": {
    "scrolled": true
   },
   "outputs": [],
   "source": [
    "permutation = model_a.match_weights(model_b)"
   ]
  },
  {
   "cell_type": "code",
   "execution_count": null,
   "id": "6cb0627c",
   "metadata": {},
   "outputs": [],
   "source": [
    "model_b_permuted = model_b.get_permuted_model(permutation)"
   ]
  },
  {
   "cell_type": "code",
   "execution_count": null,
   "id": "ee127bba",
   "metadata": {},
   "outputs": [],
   "source": [
    "model_b.validate()"
   ]
  },
  {
   "cell_type": "code",
   "execution_count": null,
   "id": "4bb26d80",
   "metadata": {
    "scrolled": true
   },
   "outputs": [],
   "source": [
    "model_b_permuted.validate()"
   ]
  },
  {
   "cell_type": "code",
   "execution_count": null,
   "id": "377d8543",
   "metadata": {
    "scrolled": true
   },
   "outputs": [],
   "source": [
    "blend_model = model_a.get_blend_model(model_b_permuted, 0.1)\n",
    "blend_model.validate()"
   ]
  },
  {
   "cell_type": "code",
   "execution_count": null,
   "id": "b2ea8fa9",
   "metadata": {},
   "outputs": [],
   "source": []
  },
  {
   "cell_type": "code",
   "execution_count": null,
   "id": "a2e90f82",
   "metadata": {},
   "outputs": [],
   "source": []
  },
  {
   "cell_type": "code",
   "execution_count": null,
   "id": "519c3d4b",
   "metadata": {},
   "outputs": [],
   "source": []
  },
  {
   "cell_type": "code",
   "execution_count": null,
   "id": "8afbf514",
   "metadata": {},
   "outputs": [],
   "source": []
  },
  {
   "cell_type": "code",
   "execution_count": null,
   "id": "d53a03c9",
   "metadata": {},
   "outputs": [],
   "source": [
    "model = RN18CIFAR(model_id=1)\n",
    "model.perm_name_to_weight_names"
   ]
  },
  {
   "cell_type": "code",
   "execution_count": null,
   "id": "5199fa66",
   "metadata": {},
   "outputs": [],
   "source": [
    "model_b.model.train()\n",
    "list(model_b.state_dict.keys())"
   ]
  },
  {
   "cell_type": "code",
   "execution_count": null,
   "id": "e77344c6",
   "metadata": {},
   "outputs": [],
   "source": [
    "model_b.state_dict['bn1.running_mean']"
   ]
  },
  {
   "cell_type": "code",
   "execution_count": null,
   "id": "fdc761b0",
   "metadata": {},
   "outputs": [],
   "source": []
  }
 ],
 "metadata": {
  "kernelspec": {
   "display_name": "Python 3 (ipykernel)",
   "language": "python",
   "name": "python3"
  },
  "language_info": {
   "codemirror_mode": {
    "name": "ipython",
    "version": 3
   },
   "file_extension": ".py",
   "mimetype": "text/x-python",
   "name": "python",
   "nbconvert_exporter": "python",
   "pygments_lexer": "ipython3",
   "version": "3.10.6"
  }
 },
 "nbformat": 4,
 "nbformat_minor": 5
}
