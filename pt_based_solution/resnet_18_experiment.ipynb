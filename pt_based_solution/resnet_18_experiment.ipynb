{
 "cells": [
  {
   "cell_type": "code",
   "execution_count": null,
   "id": "4cace405",
   "metadata": {},
   "outputs": [],
   "source": [
    "%load_ext autoreload\n",
    "%autoreload 2\n",
    "from resnet18_cifar10 import RN18CIFAR"
   ]
  },
  {
   "cell_type": "code",
   "execution_count": null,
   "id": "031d3906",
   "metadata": {},
   "outputs": [],
   "source": [
    "model_a = RN18CIFAR(model_id=0)\n",
    "model_b = RN18CIFAR(model_id=1)\n",
    "epoches = 7"
   ]
  },
  {
   "cell_type": "code",
   "execution_count": null,
   "id": "ff4ae81e",
   "metadata": {},
   "outputs": [],
   "source": [
    "model_a.train(epoches=epoches)"
   ]
  },
  {
   "cell_type": "code",
   "execution_count": null,
   "id": "f5081686",
   "metadata": {
    "scrolled": true
   },
   "outputs": [],
   "source": [
    "model_b.train(epoches=epoches)"
   ]
  },
  {
   "cell_type": "code",
   "execution_count": null,
   "id": "d8b2ff1e",
   "metadata": {
    "scrolled": true
   },
   "outputs": [],
   "source": [
    "permutation = model_a.match_weights(model_b)"
   ]
  },
  {
   "cell_type": "code",
   "execution_count": null,
   "id": "3c835e1f",
   "metadata": {},
   "outputs": [],
   "source": [
    "model_b_permuted = model_b.get_permuted_model(permutation)"
   ]
  },
  {
   "cell_type": "code",
   "execution_count": null,
   "id": "d7c0c835",
   "metadata": {},
   "outputs": [],
   "source": [
    "model_b.validate()"
   ]
  },
  {
   "cell_type": "code",
   "execution_count": null,
   "id": "699d51e6",
   "metadata": {
    "scrolled": true
   },
   "outputs": [],
   "source": [
    "model_b_permuted.validate()"
   ]
  },
  {
   "cell_type": "code",
   "execution_count": null,
   "id": "bbbad184",
   "metadata": {
    "scrolled": true
   },
   "outputs": [],
   "source": [
    "blend_model = model_a.get_blend_model(model_b_permuted, 0.1)\n",
    "blend_model.validate()"
   ]
  },
  {
   "cell_type": "code",
   "execution_count": null,
   "id": "226331de",
   "metadata": {},
   "outputs": [],
   "source": []
  },
  {
   "cell_type": "code",
   "execution_count": null,
   "id": "f7dc1ac4",
   "metadata": {},
   "outputs": [],
   "source": []
  },
  {
   "cell_type": "code",
   "execution_count": null,
   "id": "4a78f4e0",
   "metadata": {},
   "outputs": [],
   "source": []
  },
  {
   "cell_type": "code",
   "execution_count": null,
   "id": "1cbf59d0",
   "metadata": {},
   "outputs": [],
   "source": []
  },
  {
   "cell_type": "code",
   "execution_count": null,
   "id": "e92d3c56",
   "metadata": {},
   "outputs": [],
   "source": [
    "model = RN18CIFAR(model_id=1)\n",
    "model.perm_name_to_weight_names"
   ]
  },
  {
   "cell_type": "code",
   "execution_count": null,
   "id": "e6fb7e67",
   "metadata": {},
   "outputs": [],
   "source": [
    "model_b.model.train()\n",
    "list(model_b.state_dict.keys())"
   ]
  },
  {
   "cell_type": "code",
   "execution_count": null,
   "id": "33b166ba",
   "metadata": {},
   "outputs": [],
   "source": [
    "model_b.state_dict['bn1.running_mean']"
   ]
  },
  {
   "cell_type": "code",
   "execution_count": null,
   "id": "93a5f466",
   "metadata": {},
   "outputs": [],
   "source": [
    "\n"
   ]
  }
 ],
 "metadata": {
  "kernelspec": {
   "display_name": "Python 3 (ipykernel)",
   "language": "python",
   "name": "python3"
  },
  "language_info": {
   "codemirror_mode": {
    "name": "ipython",
    "version": 3
   },
   "file_extension": ".py",
   "mimetype": "text/x-python",
   "name": "python",
   "nbconvert_exporter": "python",
   "pygments_lexer": "ipython3",
   "version": "3.10.6"
  }
 },
 "nbformat": 4,
 "nbformat_minor": 5
}
