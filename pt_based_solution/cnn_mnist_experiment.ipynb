{
 "cells": [
  {
   "cell_type": "code",
   "execution_count": 21,
   "id": "0ed673e7",
   "metadata": {},
   "outputs": [
    {
     "name": "stdout",
     "output_type": "stream",
     "text": [
      "The autoreload extension is already loaded. To reload it, use:\n",
      "  %reload_ext autoreload\n"
     ]
    }
   ],
   "source": [
    "%load_ext autoreload\n",
    "%autoreload 2\n",
    "# from cnn_mnist_norm import CnnMnist\n",
    "from resnet18_cifar10 import RN18CIFAR as CnnMnist"
   ]
  },
  {
   "cell_type": "code",
   "execution_count": 22,
   "id": "65e81c93",
   "metadata": {},
   "outputs": [],
   "source": [
    "model_a = CnnMnist(\n",
    "    weight_init_seed = 0,\n",
    "    batching_seed = 0,\n",
    "    dataset_rank=1,\n",
    "    dataset_worldsize=1)\n",
    "model_b = CnnMnist(\n",
    "    weight_init_seed= 1,\n",
    "    batching_seed= 1,\n",
    "    dataset_rank=1,\n",
    "    dataset_worldsize=1)\n"
   ]
  },
  {
   "cell_type": "code",
   "execution_count": 23,
   "id": "023ea0d9",
   "metadata": {},
   "outputs": [
    {
     "name": "stdout",
     "output_type": "stream",
     "text": [
      "Using device cuda:0\n",
      "Using device cuda:1\n",
      "Files already downloaded and verified\n",
      "Files already downloaded and verified\n",
      "Files already downloaded and verified\n",
      "Epoch 1:\tTrain loss: 1.567587\tTest loss: 1.569202\tTest accuracy: 0.445700\n",
      "Files already downloaded and verified\n",
      "Epoch 1:\tTrain loss: 1.567830\tTest loss: 0.983895\tTest accuracy: 0.456100\n",
      "Epoch 2:\tTrain loss: 1.395330\tTest loss: 1.500052\tTest accuracy: 0.500100\n",
      "Epoch 2:\tTrain loss: 1.246289\tTest loss: 0.881661\tTest accuracy: 0.444800\n",
      "Epoch 3:\tTrain loss: 1.236014\tTest loss: 1.170844\tTest accuracy: 0.522600\n",
      "Epoch 3:\tTrain loss: 1.306420\tTest loss: 0.904155\tTest accuracy: 0.569000\n",
      "Epoch 4:\tTrain loss: 1.086682\tTest loss: 1.229863\tTest accuracy: 0.596800\n",
      "Epoch 4:\tTrain loss: 1.133131\tTest loss: 0.673338\tTest accuracy: 0.588600\n",
      "Epoch 5:\tTrain loss: 1.231284\tTest loss: 0.788647\tTest accuracy: 0.584000\n",
      "Epoch 5:\tTrain loss: 1.221081\tTest loss: 1.608015\tTest accuracy: 0.534100\n",
      "Epoch 6:\tTrain loss: 1.036212\tTest loss: 0.863232\tTest accuracy: 0.653600\n",
      "Epoch 6:\tTrain loss: 1.167078\tTest loss: 0.687556\tTest accuracy: 0.629800\n",
      "Epoch 7:\tTrain loss: 0.944484\tTest loss: 0.772261\tTest accuracy: 0.640100\n",
      "Epoch 7:\tTrain loss: 1.014030\tTest loss: 0.714954\tTest accuracy: 0.671500\n",
      "Epoch 8:\tTrain loss: 0.895977\tTest loss: 0.802794\tTest accuracy: 0.685900\n",
      "Epoch 8:\tTrain loss: 0.930901\tTest loss: 0.658898\tTest accuracy: 0.675600\n",
      "(Accuracy, Loss=-1)\n"
     ]
    },
    {
     "data": {
      "text/plain": [
       "(0.6859, -1)"
      ]
     },
     "execution_count": 23,
     "metadata": {},
     "output_type": "execute_result"
    }
   ],
   "source": [
    "# from concurrent.futures import ProcessPoolExecutor\n",
    "# with ProcessPoolExecutor() as executor:\n",
    "#     future1 = executor.submit(model_a.train, lr=5e-2, epoches=8, device='cuda:0')\n",
    "#     future2 = executor.submit(model_b.train, lr=5e-2, epoches=8, device='cuda:1')\n",
    "#     future1.result()\n",
    "#     future2.result()\n",
    "\n",
    "# import torch.multiprocessing as mp\n",
    "# mp.set_start_method('spawn', force=True)\n",
    "\n",
    "# # model_a.model.to('cuda')\n",
    "# model_a.model.share_memory()\n",
    "# model_b.model.share_memory()\n",
    "\n",
    "# processes = []\n",
    "# for i, model in enumerate((model_a, model_b)):\n",
    "#     p = mp.Process(target=model.train, kwargs={'lr':1e-1, 'epoches':3, 'device':f'cuda:{i}'})\n",
    "#     p.start()\n",
    "#     processes.append(p)\n",
    "# for p in processes:\n",
    "#     p.join()\n",
    "\n",
    "from concurrent.futures import ThreadPoolExecutor\n",
    "with ThreadPoolExecutor() as executor:\n",
    "    future1 = executor.submit(model_a.train, lr=5e-2, epoches=8, device='cuda:0')\n",
    "    future2 = executor.submit(model_b.train, lr=5e-2, epoches=8, device='cuda:1')\n",
    "    future1.result()\n",
    "    future2.result()\n",
    "    \n",
    "model_a.validate()"
   ]
  },
  {
   "cell_type": "code",
   "execution_count": 24,
   "id": "e39afafe",
   "metadata": {},
   "outputs": [],
   "source": [
    "# list(model_a.state_dict.keys())"
   ]
  },
  {
   "cell_type": "code",
   "execution_count": 25,
   "id": "5a90c69e",
   "metadata": {},
   "outputs": [
    {
     "name": "stdout",
     "output_type": "stream",
     "text": [
      "(Accuracy, Loss=-1)\n"
     ]
    },
    {
     "data": {
      "text/plain": [
       "(0.6859, -1)"
      ]
     },
     "execution_count": 25,
     "metadata": {},
     "output_type": "execute_result"
    }
   ],
   "source": [
    "model_a.validate()"
   ]
  },
  {
   "cell_type": "code",
   "execution_count": 26,
   "id": "016be89a",
   "metadata": {},
   "outputs": [
    {
     "name": "stdout",
     "output_type": "stream",
     "text": [
      "0/P_layer1.1_inner: 21.514026659060534\n",
      "0/P_bg0: 25.100965913412352\n",
      "0/P_layer4.0_inner: 54.14914663234276\n",
      "0/P_bg3: 85.67409289033617\n",
      "0/P_layer4.1_inner: 31.65002186778554\n",
      "0/P_bg2: 19.82220942825211\n",
      "0/P_layer2.1_inner: 28.154430965743344\n",
      "0/P_layer3.0_inner: 29.97078051405998\n",
      "0/P_layer2.0_inner: 21.046183115877625\n",
      "0/P_bg1: 0.002219437793087309\n",
      "0/P_layer3.1_inner: 29.737873630915885\n",
      "0/P_layer1.0_inner: 12.387881595670706\n",
      "1/P_bg0: 0.19232835188722675\n",
      "1/P_layer3.0_inner: 0.815874413146787\n",
      "1/P_bg3: 8.364190786242261\n",
      "1/P_layer1.0_inner: 0.5790334541649429\n",
      "1/P_layer1.1_inner: 9.595298683455212\n",
      "1/P_layer2.0_inner: 1.4121318974955557\n",
      "1/P_layer3.1_inner: 0.0\n",
      "1/P_bg1: 0.0\n",
      "1/P_layer4.1_inner: 10.378207140017707\n",
      "1/P_layer2.1_inner: 1.153600352947933\n",
      "1/P_layer4.0_inner: 26.859089669409173\n",
      "1/P_bg2: 0.0\n",
      "2/P_layer2.0_inner: 0.0\n",
      "2/P_layer4.0_inner: 0.0\n",
      "2/P_layer4.1_inner: 0.0\n",
      "2/P_bg1: 0.0\n",
      "2/P_bg0: 0.0\n",
      "2/P_layer1.0_inner: 0.0\n",
      "2/P_bg3: 0.08323784347885521\n",
      "2/P_layer2.1_inner: 0.0\n",
      "2/P_layer3.1_inner: 0.0\n",
      "2/P_bg2: 0.0\n",
      "2/P_layer3.0_inner: 0.0\n",
      "2/P_layer1.1_inner: 0.0\n",
      "3/P_bg3: 0.0\n",
      "3/P_layer4.1_inner: 0.7659338798780482\n",
      "3/P_layer3.0_inner: 0.0\n",
      "3/P_layer2.0_inner: 0.0\n",
      "3/P_bg2: 0.0\n",
      "3/P_layer4.0_inner: 0.6181236572105036\n",
      "3/P_layer2.1_inner: 0.0\n",
      "3/P_bg0: 0.0\n",
      "3/P_layer1.1_inner: 0.0\n",
      "3/P_layer3.1_inner: 0.0\n",
      "3/P_layer1.0_inner: 0.0\n",
      "3/P_bg1: 0.0\n",
      "4/P_layer1.1_inner: 0.0\n",
      "4/P_layer4.0_inner: 0.0\n",
      "4/P_bg3: 0.0\n",
      "4/P_layer2.1_inner: 0.0\n",
      "4/P_layer2.0_inner: 0.0\n",
      "4/P_layer3.0_inner: 0.0\n",
      "4/P_bg1: 0.0\n",
      "4/P_layer1.0_inner: 0.0\n",
      "4/P_layer4.1_inner: 0.0\n",
      "4/P_bg0: 0.0\n",
      "4/P_layer3.1_inner: 0.0\n",
      "4/P_bg2: 0.0\n"
     ]
    }
   ],
   "source": [
    "permutations = model_a.match_weights(model_b, seed=2, )\n",
    "# permutations"
   ]
  },
  {
   "cell_type": "code",
   "execution_count": 27,
   "id": "8a0bc3a9",
   "metadata": {},
   "outputs": [
    {
     "name": "stdout",
     "output_type": "stream",
     "text": [
      "Files already downloaded and verified\n"
     ]
    }
   ],
   "source": [
    "model_b_permuted = model_b.get_permuted_model(permutations, recalc_bn_statistics=True, )"
   ]
  },
  {
   "cell_type": "code",
   "execution_count": 28,
   "id": "c3c2ecbb",
   "metadata": {
    "scrolled": true
   },
   "outputs": [
    {
     "name": "stdout",
     "output_type": "stream",
     "text": [
      "(Accuracy, Loss=-1)\n"
     ]
    },
    {
     "data": {
      "text/plain": [
       "(0.6756, -1)"
      ]
     },
     "execution_count": 28,
     "metadata": {},
     "output_type": "execute_result"
    }
   ],
   "source": [
    "model_b.validate()"
   ]
  },
  {
   "cell_type": "code",
   "execution_count": 29,
   "id": "3da55e8e",
   "metadata": {},
   "outputs": [
    {
     "name": "stdout",
     "output_type": "stream",
     "text": [
      "(Accuracy, Loss=-1)\n"
     ]
    },
    {
     "data": {
      "text/plain": [
       "(0.6795, -1)"
      ]
     },
     "execution_count": 29,
     "metadata": {},
     "output_type": "execute_result"
    }
   ],
   "source": [
    "model_b_permuted.validate()"
   ]
  },
  {
   "cell_type": "code",
   "execution_count": 30,
   "id": "7679172f",
   "metadata": {},
   "outputs": [
    {
     "name": "stdout",
     "output_type": "stream",
     "text": [
      "Files already downloaded and verified\n",
      "(Accuracy, Loss=-1)\n"
     ]
    },
    {
     "data": {
      "text/plain": [
       "(0.2262, -1)"
      ]
     },
     "execution_count": 30,
     "metadata": {},
     "output_type": "execute_result"
    }
   ],
   "source": [
    "blend_model = model_a.get_blend_model(model_b_permuted, 0.5, recalc_bn_statistics=True)\n",
    "blend_model.validate()"
   ]
  },
  {
   "cell_type": "code",
   "execution_count": null,
   "id": "3343e2a3",
   "metadata": {},
   "outputs": [],
   "source": []
  },
  {
   "cell_type": "code",
   "execution_count": 10,
   "id": "b6be6388",
   "metadata": {},
   "outputs": [
    {
     "name": "stdout",
     "output_type": "stream",
     "text": [
      "Files already downloaded and verified\n",
      "(Accuracy, Loss=-1)\n"
     ]
    },
    {
     "data": {
      "text/plain": [
       "(0.1355, -1)"
      ]
     },
     "execution_count": 10,
     "metadata": {},
     "output_type": "execute_result"
    }
   ],
   "source": [
    "blend_model = model_a.get_blend_model(model_b, 0.5, recalc_bn_statistics=True)\n",
    "blend_model.validate()"
   ]
  },
  {
   "cell_type": "code",
   "execution_count": 11,
   "id": "e690dead",
   "metadata": {
    "scrolled": false
   },
   "outputs": [
    {
     "name": "stdout",
     "output_type": "stream",
     "text": [
      "Files already downloaded and verified\n",
      "Files already downloaded and verified\n",
      "(Accuracy, Loss=-1)\n",
      "(Accuracy, Loss=-1)\n",
      "Files already downloaded and verified\n",
      "Files already downloaded and verified\n",
      "(Accuracy, Loss=-1)\n",
      "(Accuracy, Loss=-1)\n",
      "Files already downloaded and verified\n",
      "Files already downloaded and verified\n",
      "(Accuracy, Loss=-1)\n",
      "(Accuracy, Loss=-1)\n",
      "Files already downloaded and verified\n",
      "Files already downloaded and verified\n",
      "(Accuracy, Loss=-1)\n",
      "(Accuracy, Loss=-1)\n",
      "Files already downloaded and verified\n",
      "Files already downloaded and verified\n",
      "(Accuracy, Loss=-1)\n",
      "(Accuracy, Loss=-1)\n",
      "Files already downloaded and verified\n",
      "Files already downloaded and verified\n",
      "(Accuracy, Loss=-1)\n",
      "(Accuracy, Loss=-1)\n",
      "Files already downloaded and verified\n",
      "Files already downloaded and verified\n",
      "(Accuracy, Loss=-1)\n",
      "(Accuracy, Loss=-1)\n",
      "Files already downloaded and verified\n",
      "Files already downloaded and verified\n",
      "(Accuracy, Loss=-1)\n",
      "(Accuracy, Loss=-1)\n",
      "Files already downloaded and verified\n",
      "Files already downloaded and verified\n",
      "(Accuracy, Loss=-1)\n",
      "(Accuracy, Loss=-1)\n",
      "Files already downloaded and verified\n",
      "Files already downloaded and verified\n",
      "(Accuracy, Loss=-1)\n",
      "(Accuracy, Loss=-1)\n",
      "Files already downloaded and verified\n",
      "Files already downloaded and verified\n",
      "(Accuracy, Loss=-1)\n",
      "(Accuracy, Loss=-1)\n",
      "Files already downloaded and verified\n",
      "Files already downloaded and verified\n",
      "(Accuracy, Loss=-1)\n",
      "(Accuracy, Loss=-1)\n",
      "Files already downloaded and verified\n",
      "Files already downloaded and verified\n",
      "(Accuracy, Loss=-1)\n",
      "(Accuracy, Loss=-1)\n",
      "Files already downloaded and verified\n",
      "Files already downloaded and verified\n",
      "(Accuracy, Loss=-1)\n",
      "(Accuracy, Loss=-1)\n",
      "Files already downloaded and verified\n",
      "Files already downloaded and verified\n",
      "(Accuracy, Loss=-1)\n",
      "(Accuracy, Loss=-1)\n",
      "Files already downloaded and verified\n",
      "Files already downloaded and verified\n",
      "(Accuracy, Loss=-1)\n",
      "(Accuracy, Loss=-1)\n",
      "Files already downloaded and verified\n",
      "Files already downloaded and verified\n",
      "(Accuracy, Loss=-1)\n",
      "(Accuracy, Loss=-1)\n",
      "Files already downloaded and verified\n",
      "Files already downloaded and verified\n",
      "(Accuracy, Loss=-1)\n",
      "(Accuracy, Loss=-1)\n",
      "Files already downloaded and verified\n",
      "Files already downloaded and verified\n",
      "(Accuracy, Loss=-1)\n",
      "(Accuracy, Loss=-1)\n",
      "Files already downloaded and verified\n",
      "Files already downloaded and verified\n",
      "(Accuracy, Loss=-1)\n",
      "(Accuracy, Loss=-1)\n"
     ]
    },
    {
     "data": {
      "text/plain": [
       "[<matplotlib.lines.Line2D at 0x7fbb4faf6470>]"
      ]
     },
     "execution_count": 11,
     "metadata": {},
     "output_type": "execute_result"
    },
    {
     "data": {
      "image/png": "[encoded data removed]",
      "text/plain": [
       "<Figure size 640x480 with 1 Axes>"
      ]
     },
     "metadata": {},
     "output_type": "display_data"
    }
   ],
   "source": [
    "import numpy as np\n",
    "import matplotlib.pyplot as plt\n",
    "\n",
    "lambdas, accs, accs_tupo = [], [], []\n",
    "for _lambda in np.linspace(0, 1, 20):\n",
    "    blend_model = model_a.get_blend_model(model_b_permuted, _lambda, recalc_bn_statistics=True)\n",
    "    \n",
    "    blend_model_tupo = model_a.get_blend_model(model_b, _lambda, recalc_bn_statistics=True)    \n",
    "    \n",
    "    acc, _ = blend_model.validate()\n",
    "    accs.append(acc)\n",
    "    \n",
    "    acc_tupo, _ = blend_model_tupo.validate()\n",
    "    accs_tupo.append(acc_tupo)\n",
    "                                               \n",
    "    lambdas.append(_lambda)\n",
    "\n",
    "plt.plot(lambdas, accs)\n",
    "plt.plot(lambdas, accs_tupo, '--')"
   ]
  },
  {
   "cell_type": "code",
   "execution_count": null,
   "id": "aac16826",
   "metadata": {},
   "outputs": [],
   "source": []
  },
  {
   "cell_type": "code",
   "execution_count": null,
   "id": "2dc8d150",
   "metadata": {},
   "outputs": [],
   "source": []
  }
 ],
 "metadata": {
  "kernelspec": {
   "display_name": "Python 3 (ipykernel)",
   "language": "python",
   "name": "python3"
  },
  "language_info": {
   "codemirror_mode": {
    "name": "ipython",
    "version": 3
   },
   "file_extension": ".py",
   "mimetype": "text/x-python",
   "name": "python",
   "nbconvert_exporter": "python",
   "pygments_lexer": "ipython3",
   "version": "3.10.6"
  }
 },
 "nbformat": 4,
 "nbformat_minor": 5
}
