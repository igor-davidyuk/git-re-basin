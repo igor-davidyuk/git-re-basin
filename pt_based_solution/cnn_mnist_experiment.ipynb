{
 "cells": [
  {
   "cell_type": "code",
   "execution_count": 1,
   "id": "0ed673e7",
   "metadata": {},
   "outputs": [],
   "source": [
    "%load_ext autoreload\n",
    "%autoreload 2\n",
    "from cnn_mnist_norm import CnnMnist"
   ]
  },
  {
   "cell_type": "code",
   "execution_count": 2,
   "id": "65e81c93",
   "metadata": {},
   "outputs": [],
   "source": [
    "model_a = CnnMnist(model_id=0)\n",
    "model_b = CnnMnist(model_id=1)\n"
   ]
  },
  {
   "cell_type": "code",
   "execution_count": 3,
   "id": "5232ae86",
   "metadata": {
    "scrolled": true
   },
   "outputs": [
    {
     "name": "stdout",
     "output_type": "stream",
     "text": [
      "Using device cuda\n",
      "Epoch 1:\tTrain loss: 2.206614\tTest loss: 2.215308\tTest accuracy: 0.219000\n",
      "Epoch 2:\tTrain loss: 2.097016\tTest loss: 2.035182\tTest accuracy: 0.311800\n",
      "Epoch 3:\tTrain loss: 2.018870\tTest loss: 1.914960\tTest accuracy: 0.347100\n",
      "Epoch 4:\tTrain loss: 1.961611\tTest loss: 1.859217\tTest accuracy: 0.337600\n",
      "Epoch 5:\tTrain loss: 1.912805\tTest loss: 1.833738\tTest accuracy: 0.378600\n",
      "Epoch 6:\tTrain loss: 1.839764\tTest loss: 1.822220\tTest accuracy: 0.372300\n",
      "Using device cuda\n",
      "Epoch 1:\tTrain loss: 2.232207\tTest loss: 2.237354\tTest accuracy: 0.285000\n",
      "Epoch 2:\tTrain loss: 2.135169\tTest loss: 2.071579\tTest accuracy: 0.314600\n",
      "Epoch 3:\tTrain loss: 2.023380\tTest loss: 1.946852\tTest accuracy: 0.312200\n",
      "Epoch 4:\tTrain loss: 1.914283\tTest loss: 1.878633\tTest accuracy: 0.348500\n",
      "Epoch 5:\tTrain loss: 1.862774\tTest loss: 1.862792\tTest accuracy: 0.372600\n",
      "Epoch 6:\tTrain loss: 1.878059\tTest loss: 1.847514\tTest accuracy: 0.367800\n"
     ]
    }
   ],
   "source": [
    "model_a.train(lr=5e-2, epoches=6)\n",
    "model_b.train(lr=5e-2, epoches=6)"
   ]
  },
  {
   "cell_type": "code",
   "execution_count": 12,
   "id": "e39afafe",
   "metadata": {},
   "outputs": [
    {
     "data": {
      "text/plain": [
       "['0.weight',\n",
       " '0.bias',\n",
       " '1.weight',\n",
       " '1.bias',\n",
       " '4.weight',\n",
       " '4.bias',\n",
       " '5.weight',\n",
       " '5.bias',\n",
       " '9.weight',\n",
       " '9.bias']"
      ]
     },
     "execution_count": 12,
     "metadata": {},
     "output_type": "execute_result"
    }
   ],
   "source": [
    "list(model_a.state_dict.keys())"
   ]
  },
  {
   "cell_type": "code",
   "execution_count": null,
   "id": "5a90c69e",
   "metadata": {},
   "outputs": [],
   "source": []
  },
  {
   "cell_type": "code",
   "execution_count": 13,
   "id": "016be89a",
   "metadata": {},
   "outputs": [
    {
     "name": "stdout",
     "output_type": "stream",
     "text": [
      "4.weight (96, 30, 3, 3) (96,)\n",
      "0/P0: 7.3824342593725305\n",
      "4.weight (96, 30, 3, 3) (30,)\n",
      "0/P1: 24.527574982661918\n",
      "4.weight (96, 30, 3, 3) (96,)\n",
      "1/P0: 0.06241838075220585\n",
      "4.weight (96, 30, 3, 3) (30,)\n",
      "1/P1: 0.1996470275335014\n",
      "4.weight (96, 30, 3, 3) (30,)\n",
      "2/P1: 0.0\n",
      "4.weight (96, 30, 3, 3) (96,)\n",
      "2/P0: 0.0\n"
     ]
    },
    {
     "data": {
      "text/plain": [
       "{'P0': array([ 2, 27, 14,  5, 11, 28,  7, 19, 12, 18, 10,  1, 24,  4, 17, 16, 25,\n",
       "        26, 21,  8,  3, 15,  9,  6, 29, 22,  0, 20, 13, 23]),\n",
       " 'P1': array([60, 68, 51, 26, 91, 65, 76, 66, 34,  0, 52, 74, 42, 77, 71, 32, 23,\n",
       "         6, 79, 41, 89,  9, 87, 24, 64, 84, 22, 10, 54, 72, 48, 20, 90, 46,\n",
       "        47, 35, 31,  4, 58, 92, 45, 25,  3, 82, 43, 12, 39, 93, 37, 29,  8,\n",
       "        55, 40, 56, 11, 53, 86, 57, 50, 19, 33, 44, 13,  7, 88, 18, 36, 28,\n",
       "        62,  5, 67, 83, 14, 27, 63, 21, 75, 80,  2, 94, 15,  1, 73, 16, 17,\n",
       "        30, 85, 59, 81, 61, 78, 70, 69, 38, 95, 49])}"
      ]
     },
     "execution_count": 13,
     "metadata": {},
     "output_type": "execute_result"
    }
   ],
   "source": [
    "permutation = model_a.match_weights(model_b, seed=1)\n",
    "permutation"
   ]
  },
  {
   "cell_type": "code",
   "execution_count": 14,
   "id": "8a0bc3a9",
   "metadata": {},
   "outputs": [
    {
     "name": "stdout",
     "output_type": "stream",
     "text": [
      "0.weight (30, 1, 3, 3) (30,)\n",
      "1.weight (30,) (30,)\n",
      "1.bias (30,) (30,)\n",
      "4.weight (96, 30, 3, 3) (96,)\n",
      "4.weight (96, 30, 3, 3) (30,)\n",
      "5.weight (96,) (96,)\n",
      "5.bias (96,) (96,)\n",
      "9.weight (10, 96) (96,)\n"
     ]
    }
   ],
   "source": [
    "model_b_permuted = model_b.get_permuted_model(permutation)"
   ]
  },
  {
   "cell_type": "code",
   "execution_count": 15,
   "id": "c3c2ecbb",
   "metadata": {},
   "outputs": [
    {
     "name": "stdout",
     "output_type": "stream",
     "text": [
      "(Accuracy, Loss=-1)\n"
     ]
    },
    {
     "data": {
      "text/plain": [
       "(0.3678, -1)"
      ]
     },
     "execution_count": 15,
     "metadata": {},
     "output_type": "execute_result"
    }
   ],
   "source": [
    "model_b.validate()"
   ]
  },
  {
   "cell_type": "code",
   "execution_count": 16,
   "id": "3da55e8e",
   "metadata": {},
   "outputs": [
    {
     "name": "stdout",
     "output_type": "stream",
     "text": [
      "(Accuracy, Loss=-1)\n"
     ]
    },
    {
     "data": {
      "text/plain": [
       "(0.3678, -1)"
      ]
     },
     "execution_count": 16,
     "metadata": {},
     "output_type": "execute_result"
    }
   ],
   "source": [
    "model_b_permuted.validate()"
   ]
  },
  {
   "cell_type": "code",
   "execution_count": 17,
   "id": "7679172f",
   "metadata": {},
   "outputs": [
    {
     "name": "stdout",
     "output_type": "stream",
     "text": [
      "(Accuracy, Loss=-1)\n"
     ]
    },
    {
     "data": {
      "text/plain": [
       "(0.3352, -1)"
      ]
     },
     "execution_count": 17,
     "metadata": {},
     "output_type": "execute_result"
    }
   ],
   "source": [
    "blend_model = model_a.get_blend_model(model_b_permuted, 0.5)\n",
    "blend_model.validate()"
   ]
  },
  {
   "cell_type": "code",
   "execution_count": 18,
   "id": "b6be6388",
   "metadata": {},
   "outputs": [
    {
     "name": "stdout",
     "output_type": "stream",
     "text": [
      "(Accuracy, Loss=-1)\n"
     ]
    },
    {
     "data": {
      "text/plain": [
       "(0.1142, -1)"
      ]
     },
     "execution_count": 18,
     "metadata": {},
     "output_type": "execute_result"
    }
   ],
   "source": [
    "blend_model = model_a.get_blend_model(model_b, 0.5)\n",
    "blend_model.validate()"
   ]
  },
  {
   "cell_type": "code",
   "execution_count": 19,
   "id": "e690dead",
   "metadata": {},
   "outputs": [
    {
     "name": "stdout",
     "output_type": "stream",
     "text": [
      "(Accuracy, Loss=-1)\n",
      "(Accuracy, Loss=-1)\n",
      "(Accuracy, Loss=-1)\n",
      "(Accuracy, Loss=-1)\n",
      "(Accuracy, Loss=-1)\n",
      "(Accuracy, Loss=-1)\n",
      "(Accuracy, Loss=-1)\n",
      "(Accuracy, Loss=-1)\n",
      "(Accuracy, Loss=-1)\n",
      "(Accuracy, Loss=-1)\n",
      "(Accuracy, Loss=-1)\n",
      "(Accuracy, Loss=-1)\n",
      "(Accuracy, Loss=-1)\n",
      "(Accuracy, Loss=-1)\n",
      "(Accuracy, Loss=-1)\n",
      "(Accuracy, Loss=-1)\n",
      "(Accuracy, Loss=-1)\n",
      "(Accuracy, Loss=-1)\n",
      "(Accuracy, Loss=-1)\n",
      "(Accuracy, Loss=-1)\n",
      "(Accuracy, Loss=-1)\n",
      "(Accuracy, Loss=-1)\n",
      "(Accuracy, Loss=-1)\n",
      "(Accuracy, Loss=-1)\n",
      "(Accuracy, Loss=-1)\n",
      "(Accuracy, Loss=-1)\n",
      "(Accuracy, Loss=-1)\n",
      "(Accuracy, Loss=-1)\n",
      "(Accuracy, Loss=-1)\n",
      "(Accuracy, Loss=-1)\n",
      "(Accuracy, Loss=-1)\n",
      "(Accuracy, Loss=-1)\n",
      "(Accuracy, Loss=-1)\n",
      "(Accuracy, Loss=-1)\n",
      "(Accuracy, Loss=-1)\n",
      "(Accuracy, Loss=-1)\n",
      "(Accuracy, Loss=-1)\n",
      "(Accuracy, Loss=-1)\n",
      "(Accuracy, Loss=-1)\n",
      "(Accuracy, Loss=-1)\n"
     ]
    },
    {
     "data": {
      "text/plain": [
       "[<matplotlib.lines.Line2D at 0x7f08581f7790>]"
      ]
     },
     "execution_count": 19,
     "metadata": {},
     "output_type": "execute_result"
    },
    {
     "data": {
      "image/png": "[encoded data removed]",
      "text/plain": [
       "<Figure size 640x480 with 1 Axes>"
      ]
     },
     "metadata": {},
     "output_type": "display_data"
    }
   ],
   "source": [
    "import numpy as np\n",
    "import matplotlib.pyplot as plt\n",
    "\n",
    "lambdas, accs, accs_tupo = [], [], []\n",
    "for _lambda in np.linspace(0, 1, 20):\n",
    "    blend_model = model_a.get_blend_model(model_b_permuted, _lambda)\n",
    "    blend_model_tupo = model_a.get_blend_model(model_b, _lambda)\n",
    "    \n",
    "    \n",
    "    acc, _ = blend_model.validate()\n",
    "    accs.append(acc)\n",
    "    \n",
    "    acc_tupo, _ = blend_model_tupo.validate()\n",
    "    accs_tupo.append(acc_tupo)\n",
    "                                               \n",
    "    lambdas.append(_lambda)\n",
    "\n",
    "plt.plot(lambdas, accs)\n",
    "plt.plot(lambdas, accs_tupo, '--')"
   ]
  },
  {
   "cell_type": "code",
   "execution_count": null,
   "id": "aac16826",
   "metadata": {},
   "outputs": [],
   "source": []
  },
  {
   "cell_type": "code",
   "execution_count": null,
   "id": "2dc8d150",
   "metadata": {},
   "outputs": [],
   "source": []
  }
 ],
 "metadata": {
  "kernelspec": {
   "display_name": "Python 3 (ipykernel)",
   "language": "python",
   "name": "python3"
  },
  "language_info": {
   "codemirror_mode": {
    "name": "ipython",
    "version": 3
   },
   "file_extension": ".py",
   "mimetype": "text/x-python",
   "name": "python",
   "nbconvert_exporter": "python",
   "pygments_lexer": "ipython3",
   "version": "3.10.6"
  }
 },
 "nbformat": 4,
 "nbformat_minor": 5
}
