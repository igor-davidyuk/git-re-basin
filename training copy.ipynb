{
 "cells": [
  {
   "cell_type": "code",
   "execution_count": 1,
   "id": "744fec16",
   "metadata": {},
   "outputs": [
    {
     "name": "stderr",
     "output_type": "stream",
     "text": [
      "/home/itrushkin/.virtualenvs/git-re-basin/lib/python3.10/site-packages/tqdm/auto.py:22: TqdmWarning: IProgress not found. Please update jupyter and ipywidgets. See https://ipywidgets.readthedocs.io/en/stable/user_install.html\n",
      "  from .autonotebook import tqdm as notebook_tqdm\n"
     ]
    }
   ],
   "source": [
    "from torchvision.datasets import CIFAR10\n",
    "import numpy as np\n",
    "from torchvision import transforms\n",
    "from torch.utils.data import DataLoader, Subset\n",
    "import torch\n",
    "import torch.nn as nn"
   ]
  },
  {
   "cell_type": "code",
   "execution_count": 2,
   "id": "6f174f31",
   "metadata": {},
   "outputs": [],
   "source": [
    "SPLIT=True\n",
    "MODEL_ID=0\n",
    "BATCH_SIZE=2**9\n",
    "NUM_EPOCHS=100"
   ]
  },
  {
   "cell_type": "code",
   "execution_count": 3,
   "id": "309afafe",
   "metadata": {},
   "outputs": [],
   "source": [
    "torch.manual_seed(MODEL_ID)\n",
    "np.random.seed(MODEL_ID)\n",
    "torch.use_deterministic_algorithms(False)"
   ]
  },
  {
   "cell_type": "code",
   "execution_count": 4,
   "id": "d9f863f2",
   "metadata": {},
   "outputs": [],
   "source": [
    "device = torch.device('cuda' if torch.cuda.is_available() else 'cpu')"
   ]
  },
  {
   "cell_type": "code",
   "execution_count": 5,
   "id": "b76fd061",
   "metadata": {},
   "outputs": [
    {
     "name": "stdout",
     "output_type": "stream",
     "text": [
      "Files already downloaded and verified\n"
     ]
    }
   ],
   "source": [
    "train_transform = transforms.Compose([\n",
    "    transforms.RandomAffine(0, scale=[0.8, 1.2]),\n",
    "    transforms.RandomCrop(32),\n",
    "    transforms.RandomHorizontalFlip(),\n",
    "    transforms.RandomAffine(30),\n",
    "    transforms.ToTensor()\n",
    "])\n",
    "\n",
    "valid_transform = transforms.Compose([\n",
    "    transforms.ToTensor()\n",
    "])\n",
    "\n",
    "train_dataset = CIFAR10('.', train=True, transform=train_transform, download=True)\n",
    "valid_dataset = CIFAR10('.', train=False, transform=valid_transform)\n",
    "def get_non_iid_indices(labels):\n",
    "    condition = labels < 5 if MODEL_ID == 1 else labels >= 5\n",
    "    return condition.nonzero()[0]\n",
    "def get_iid_indices(labels):\n",
    "    indices = np.random.permutation(len(labels))\n",
    "    indices = np.array_split(indices, 2)[MODEL_ID]\n",
    "    return indices\n",
    "\n",
    "if SPLIT:\n",
    "    labels = np.array(train_dataset.targets)\n",
    "    indices = get_iid_indices(labels)\n",
    "    train_dataset = Subset(train_dataset, indices)\n",
    "\n",
    "\n",
    "train_loader = DataLoader(train_dataset, batch_size=BATCH_SIZE, shuffle=True)\n",
    "valid_loader = DataLoader(valid_dataset, batch_size=BATCH_SIZE)"
   ]
  },
  {
   "cell_type": "code",
   "execution_count": 6,
   "id": "66f4cefd",
   "metadata": {},
   "outputs": [],
   "source": [
    "from torchvision.models import resnet18\n",
    "\n",
    "class Conv2dLayerNorm(nn.LayerNorm):        \n",
    "    def forward(self, x):\n",
    "        transposed = x.transpose(1,3)\n",
    "        result = super().forward(transposed)\n",
    "        \n",
    "        return result.transpose(3,1)\n",
    "    \n",
    "def gn(channels):\n",
    "    return nn.GroupNorm(32, channels)\n",
    "\n",
    "model = resnet18(num_classes=10,norm_layer=gn).to(device)    "
   ]
  },
  {
   "cell_type": "code",
   "execution_count": 7,
   "id": "b4ad8b85",
   "metadata": {},
   "outputs": [],
   "source": [
    "from torch.optim import SGD\n",
    "from torch.optim.lr_scheduler import CosineAnnealingLR\n",
    "\n",
    "optimizer = SGD(model.parameters(), momentum=0.9, lr=5e-3)\n",
    "scheduler = CosineAnnealingLR(optimizer, T_max=NUM_EPOCHS, eta_min=1e-6)"
   ]
  },
  {
   "cell_type": "code",
   "execution_count": 8,
   "id": "f6c4955c",
   "metadata": {},
   "outputs": [],
   "source": [
    "from torch import nn\n",
    "loss_fn = nn.CrossEntropyLoss()"
   ]
  },
  {
   "cell_type": "code",
   "execution_count": null,
   "id": "b1452521",
   "metadata": {},
   "outputs": [
    {
     "name": "stdout",
     "output_type": "stream",
     "text": [
      "Epoch 1:\tTrain loss: 1.944900\tTest loss: 1.895434\tTest accuracy: 0.332800\n",
      "Epoch 2:\tTrain loss: 1.719854\tTest loss: 1.686871\tTest accuracy: 0.400700\n",
      "Epoch 3:\tTrain loss: 1.642070\tTest loss: 1.564700\tTest accuracy: 0.439600\n",
      "Epoch 4:\tTrain loss: 1.580784\tTest loss: 1.511770\tTest accuracy: 0.467000\n",
      "Epoch 5:\tTrain loss: 1.544345\tTest loss: 1.450397\tTest accuracy: 0.479900\n",
      "Epoch 6:\tTrain loss: 1.353594\tTest loss: 1.456356\tTest accuracy: 0.489600\n",
      "Epoch 7:\tTrain loss: 1.335266\tTest loss: 1.436106\tTest accuracy: 0.506200\n",
      "Epoch 8:\tTrain loss: 1.438748\tTest loss: 1.347981\tTest accuracy: 0.531200\n",
      "Epoch 9:\tTrain loss: 1.280161\tTest loss: 1.367846\tTest accuracy: 0.532500\n",
      "Epoch 10:\tTrain loss: 1.313264\tTest loss: 1.364547\tTest accuracy: 0.530900\n",
      "Epoch 11:\tTrain loss: 1.314696\tTest loss: 1.368729\tTest accuracy: 0.542500\n",
      "Epoch 12:\tTrain loss: 1.176945\tTest loss: 1.295809\tTest accuracy: 0.563400\n",
      "Epoch 13:\tTrain loss: 1.177987\tTest loss: 1.300059\tTest accuracy: 0.564600\n",
      "Epoch 14:\tTrain loss: 1.239163\tTest loss: 1.247281\tTest accuracy: 0.582200\n",
      "Epoch 15:\tTrain loss: 1.190175\tTest loss: 1.286892\tTest accuracy: 0.573900\n",
      "Epoch 16:\tTrain loss: 1.168246\tTest loss: 1.257577\tTest accuracy: 0.587500\n",
      "Epoch 17:\tTrain loss: 1.079679\tTest loss: 1.267642\tTest accuracy: 0.597700\n",
      "Epoch 18:\tTrain loss: 1.131426\tTest loss: 1.243127\tTest accuracy: 0.595300\n",
      "Epoch 19:\tTrain loss: 1.143818\tTest loss: 1.268041\tTest accuracy: 0.595800\n",
      "Epoch 20:\tTrain loss: 1.206375\tTest loss: 1.244061\tTest accuracy: 0.601200\n",
      "Epoch 21:\tTrain loss: 1.166469\tTest loss: 1.227707\tTest accuracy: 0.610700\n"
     ]
    }
   ],
   "source": [
    "import torch\n",
    "import torch.nn.functional as F\n",
    "def train():\n",
    "    model.train()\n",
    "    for data, target in train_loader:\n",
    "        optimizer.zero_grad()\n",
    "        data, target = data.to(device), target.to(device)\n",
    "        outputs = model(data)\n",
    "        loss = loss_fn(outputs, target)\n",
    "        loss.backward()\n",
    "        optimizer.step()\n",
    "    scheduler.step()\n",
    "    return loss.item()\n",
    "\n",
    "def validate():\n",
    "    model.eval()\n",
    "    total_samples = 0\n",
    "    val_score = 0\n",
    "    for data, target in valid_loader:\n",
    "        optimizer.zero_grad()\n",
    "        data, target = data.to(device), target.to(device)\n",
    "        outputs = model(data)\n",
    "        loss = loss_fn(outputs, target)\n",
    "        pred = outputs.argmax(dim=1)\n",
    "        val_score += pred.eq(target).sum().cpu().numpy()\n",
    "        total_samples += len(target)\n",
    "    return loss.item(), val_score / total_samples\n",
    "\n",
    "for epoch in range(NUM_EPOCHS):\n",
    "    train_loss = train()\n",
    "    val_loss, acc = validate()\n",
    "    print(f'Epoch {epoch+1}:\\tTrain loss: {train_loss:4f}\\tTest loss: {val_loss:4f}\\tTest accuracy: {acc:4f}')"
   ]
  },
  {
   "cell_type": "code",
   "execution_count": null,
   "id": "abb723cc",
   "metadata": {},
   "outputs": [],
   "source": [
    "import pickle\n",
    "with open(f'model_{MODEL_ID}.pkl','wb') as f:\n",
    "    pickle.dump({n: p.numpy(force=True) for n,p in model.state_dict().items()}, f) "
   ]
  },
  {
   "cell_type": "code",
   "execution_count": null,
   "id": "fbc5e65d",
   "metadata": {},
   "outputs": [],
   "source": [
    "for n,p in model.state_dict().items():\n",
    "    print(f'{n}: {p.size()}')"
   ]
  },
  {
   "cell_type": "code",
   "execution_count": null,
   "id": "afabda19",
   "metadata": {},
   "outputs": [],
   "source": [
    "torch.tensor([64.3]).numpy(force=True)"
   ]
  },
  {
   "cell_type": "code",
   "execution_count": null,
   "id": "3e1da41c",
   "metadata": {},
   "outputs": [],
   "source": []
  },
  {
   "cell_type": "code",
   "execution_count": null,
   "id": "c1eea4b9",
   "metadata": {},
   "outputs": [],
   "source": []
  }
 ],
 "metadata": {
  "kernelspec": {
   "display_name": "Python 3 (ipykernel)",
   "language": "python",
   "name": "python3"
  },
  "language_info": {
   "codemirror_mode": {
    "name": "ipython",
    "version": 3
   },
   "file_extension": ".py",
   "mimetype": "text/x-python",
   "name": "python",
   "nbconvert_exporter": "python",
   "pygments_lexer": "ipython3",
   "version": "3.10.6"
  }
 },
 "nbformat": 4,
 "nbformat_minor": 5
}
